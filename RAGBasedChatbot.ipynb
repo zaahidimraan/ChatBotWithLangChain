{
 "cells": [
  {
   "cell_type": "code",
   "execution_count": 2,
   "metadata": {},
   "outputs": [],
   "source": [
    "import json\n",
    "from langchain.text_splitter import RecursiveCharacterTextSplitter\n",
    "from langchain_community.vectorstores import Chroma\n",
    "from langchain_community.document_loaders import JSONLoader\n",
    "from langchain.storage import InMemoryStore\n",
    "from langchain_core.documents import Document\n",
    "\n",
    "import os\n",
    "from dotenv import load_dotenv"
   ]
  },
  {
   "cell_type": "code",
   "execution_count": 3,
   "metadata": {},
   "outputs": [],
   "source": [
    "from langchain.document_loaders import TextLoader\n",
    "from langchain.text_splitter import RecursiveCharacterTextSplitter\n",
    "from langchain_community.vectorstores import Chroma\n",
    "from langchain_google_genai import GoogleGenerativeAIEmbeddings\n",
    "from langchain.storage import InMemoryStore\n",
    "from langchain_core.documents import Document\n",
    "\n",
    "import os\n",
    "from dotenv import load_dotenv\n",
    "\n",
    "# Load environment variables (make sure to set GOOGLE_API_KEY in your .env file)\n",
    "load_dotenv()\n",
    "\n",
    "def read_file_with_fallback_encoding(file_path):\n",
    "    encodings = ['utf-8', 'latin-1', 'ascii', 'utf-16', 'cp1252']\n",
    "    for encoding in encodings:\n",
    "        try:\n",
    "            with open(file_path, 'r', encoding=encoding) as file:\n",
    "                return file.read()\n",
    "        except UnicodeDecodeError:\n",
    "            continue\n",
    "    raise ValueError(f\"Unable to read the file {file_path} with any of the attempted encodings\")\n",
    "\n",
    "def load_rag_content_from_text(text_file_path, chunk_size=1000, chunk_overlap=200):\n",
    "    try:\n",
    "        # Read the file content\n",
    "        file_content = read_file_with_fallback_encoding(text_file_path)\n",
    "        \n",
    "        # Create a Document object\n",
    "        document = Document(page_content=file_content, metadata={\"source\": text_file_path})\n",
    "\n",
    "        # Initialize the text splitter\n",
    "        text_splitter = RecursiveCharacterTextSplitter(\n",
    "            chunk_size=chunk_size,\n",
    "            chunk_overlap=chunk_overlap,\n",
    "            length_function=len,\n",
    "        )\n",
    "\n",
    "        # Split the document\n",
    "        splits = text_splitter.split_documents([document])\n",
    "\n",
    "        # Initialize the embedding function with Gemini Pro\n",
    "        embedding_function = GoogleGenerativeAIEmbeddings(model=\"models/embedding-001\", task_type='retrieval_query')\n",
    "\n",
    "        # Create the vector store\n",
    "        vectorstore = Chroma.from_documents(documents=splits, embedding=embedding_function)\n",
    "\n",
    "        # Create the retriever\n",
    "        retriever = vectorstore.as_retriever(search_kwargs={\"k\": 5})\n",
    "\n",
    "        return retriever\n",
    "    except Exception as e:\n",
    "        print(f\"Error processing file {text_file_path}: {str(e)}\")\n",
    "        return None\n",
    "\n",
    "# Usage\n",
    "text_file_path = \"rag_string.txt\"\n",
    "retriever = load_rag_content_from_text(text_file_path)"
   ]
  },
  {
   "cell_type": "code",
   "execution_count": 4,
   "metadata": {},
   "outputs": [
    {
     "name": "stderr",
     "output_type": "stream",
     "text": [
      "c:\\Users\\Zahid imran\\Desktop\\LLM\\Langchai\\venv\\Lib\\site-packages\\langchain_core\\_api\\deprecation.py:141: LangChainDeprecationWarning: The method `BaseRetriever.get_relevant_documents` was deprecated in langchain-core 0.1.46 and will be removed in 1.0. Use invoke instead.\n",
      "  warn_deprecated(\n"
     ]
    },
    {
     "name": "stdout",
     "output_type": "stream",
     "text": [
      "Content: Education.  Home of   Study Abroad  in  Bahrain. Start Your Study Abroad Journey with Us.  We listen carefully to what you want, making your journey smooth. You’ll end up in your dream university.  STUDY ABROAD. JNS Education provides Free counselling service and student visa assistance for students who wants to study abroad. Apply Now For University Admission!.  Official   Testing Center for IELTS PTE, GMAT and more.. We offer a range of convenient test dates for PTE UKVI, GMAT and IELTS UKVI at our test center in Bahrain.  Student Reviews. JnS Education is the one and only Pearson test of English (PTE) center in Bahrain. They also give consultancy for higher education in abroad and specific to the UK. JnS Education works closely with university and candidate.  I recently used JNS for help with my university and visa application for US. The consultant was extremely helpful and knowledgeable throughout the entire process, answering all of my questions and providing guidance when\n",
      "Metadata: {'source': 'rag_string.txt'}\n",
      "--------------------------------------------------\n",
      "Content: activities and is valid for visitors to our website with regards to the information that they shared and/or collect in JnS Education . This policy is not applicable to any information collected offline or via channels other than this website.  Hello, How we can   help you?. JnS Education.  Join the Upcomming   Events  from JnS Education. JnS Education.\n",
      "Metadata: {'source': 'rag_string.txt'}\n",
      "--------------------------------------------------\n",
      "Content: Time zone, are from 10 AM to 6 PM, Monday through Saturday.  JnS Education provides students with study-abroad consultancy services in 7 major countries worldwide.  Book a   Free  Consultation. JnS Education.  Home of   Study Abroad. JnS Education.  We're   JnS Education. JnS Education.  We're   JnS Education. At JnS Education, we help students in finding their right academic match and ensure a smooth university application process.  Mission & Vision. To offer expert educational guidance and to partner with more renowned international universities to facilitate students with their academic journey.  What universities say about us. Don’t just take our words – look around at what other higher-education universities and colleges are saying about us.  Students. JnS Education expert consultants will help you choose a university abroad, prepare for tests, select a program, and submit your application.  Reasons why   students   love us. Don’t just take our words – look around at what student\n",
      "Metadata: {'source': 'rag_string.txt'}\n",
      "--------------------------------------------------\n",
      "Content: will help you choose a university abroad, prepare for tests, select a program, and submit your application.  Reasons why   students   love us. Don’t just take our words – look around at what student are saying about us.  Drop us your query, and we’ll call you right away. We are dedicated to helping students achieve their goal of studying abroad.  Privacy Policy. JnS Education.  Privacy Policy. At JnS Education , accessible from https://jnsedu.com/, one of our main priorities is the privacy of our visitors. This Privacy Policy document contains types of information that is collected and recorded by JnS Education and how we use it. If you have additional questions or require more information about our Privacy Policy, do not hesitate to contact us. This Privacy Policy applies only to our online activities and is valid for visitors to our website with regards to the information that they shared and/or collect in JnS Education . This policy is not applicable to any information collected\n",
      "Metadata: {'source': 'rag_string.txt'}\n",
      "--------------------------------------------------\n",
      "Content: popular international courses, their tuition fee, academic requirements, and more.  You are in   good  hands. JnS Education.  Leading  Study Abroad  Consultant in Qatar. JnS Education.  Leading  Study Abroad  Consultant in Qatar. JnS Education Consultants listen carefully to what you want, making your study abroad journey smooth. You’ll end up in your dream university.  Free Study Abroad  Counseling. JNS Education provides Free counseling services and student visa assistance for students who want to study abroad. Apply Now For University Admission!.  Explore Top Study Destinations. We have formed partnerships with more than 500 renowned education institutions spanning across 7 different countries.  Official   Testing Center for IELTS PTE, GMAT and more.. We offer a range of convenient test dates for PTE UKVI, GMAT, and IELTS UKVI at our test centers in the Middle East.  Student Reviews. I want to highly recommend Ms. Madiha for her outstanding help. She enthusiastically assisted me in\n",
      "Metadata: {'source': 'rag_string.txt'}\n",
      "--------------------------------------------------\n"
     ]
    }
   ],
   "source": [
    "if retriever:\n",
    "    # Test the retriever\n",
    "    query = \"What is the main topic of the content?\"\n",
    "    results = retriever.get_relevant_documents(query)\n",
    "\n",
    "    for doc in results:\n",
    "        print(f\"Content: {doc.page_content}\")\n",
    "        print(f\"Metadata: {doc.metadata}\")\n",
    "        print(\"-\" * 50)\n",
    "else:\n",
    "    print(\"Failed to create retriever due to file reading error.\")"
   ]
  },
  {
   "cell_type": "code",
   "execution_count": 5,
   "metadata": {},
   "outputs": [
    {
     "name": "stderr",
     "output_type": "stream",
     "text": [
      "c:\\Users\\Zahid imran\\Desktop\\LLM\\Langchai\\venv\\Lib\\site-packages\\langchain_core\\_api\\deprecation.py:141: LangChainDeprecationWarning: The method `Chain.__call__` was deprecated in langchain 0.1.0 and will be removed in 1.0. Use invoke instead.\n",
      "  warn_deprecated(\n"
     ]
    },
    {
     "name": "stdout",
     "output_type": "stream",
     "text": [
      "Answer: JnS Education is the one and only Pearson test of English (PTE) center in Bahrain. They also give consultancy for higher education in abroad and specific to the UK. \n",
      "\n",
      "Answer: The provided text does not list all countries where JnS Education provides services. It only mentions that they provide services in 7 major countries worldwide. \n",
      "\n",
      "Answer: PTE stands for Pearson Test of English. \n",
      "\n",
      "JnS Education is an official testing center for PTE in Bahrain, Pakistan, Kuwait, Saudi Arabia, UAE, and Qatar. They offer a range of convenient test dates for PTE UKVI, PTE-A, and GMAT at their test centers. \n",
      "\n",
      "Answer: JnS Education is an official test center for PTE UKVI, PTE-A, and GMAT in Pakistan, Kuwait, Saudi Arabia, UAE, Bahrain, and Qatar. \n",
      "\n",
      "Answer: JnS Education is a leading education consultant and PTE test center in Pakistan. They offer:\n",
      "\n",
      "* **Consultancy services:** Expert consultants help students pursue higher education abroad.\n",
      "* **Test center:** They are an official test center for PTE UKVI, PTE-A, and GMAT in Islamabad, Lahore, and Karachi.\n",
      "* **Visa assistance:** They help students obtain study visas for the UK.\n",
      "* **Free consultancy:** They offer free consultancy throughout Saudi Arabia.\n",
      "* **Operating hours:**  They are open from 10 AM to 6 PM, Monday to Saturday, according to the Pakistani time zone.\n",
      "* **Fees:** They charge a 30,000 PKR fee at the end of the process once the student's visa is approved. \n",
      "\n"
     ]
    }
   ],
   "source": [
    "import os\n",
    "from dotenv import load_dotenv\n",
    "from langchain import PromptTemplate, LLMChain\n",
    "from langchain.chains import RetrievalQA\n",
    "from langchain_google_genai import GoogleGenerativeAI\n",
    "\n",
    "# Load environment variables (make sure to set GOOGLE_API_KEY in your .env file)\n",
    "load_dotenv()\n",
    "\n",
    "# Initialize the LLM (assuming you have the Gemini model set up)\n",
    "llm = GoogleGenerativeAI(model=\"gemini-1.5-flash\", temperature=0.7) \n",
    "\n",
    "# Template to format the prompt for Gemini, incorporating the retrieved context\n",
    "template = \"\"\"Use the following pieces of context to answer the question at the end. \n",
    "If you don't know the answer, just say that you don't know, don't try to make up an answer.\n",
    "\n",
    "{context}\n",
    "\n",
    "Question: {question}\n",
    "Answer:\"\"\"\n",
    "prompt_template = PromptTemplate(input_variables=[\"context\", \"question\"], template=template)\n",
    "\n",
    "# Chain to combine the retriever and the LLM\n",
    "qa_chain = RetrievalQA.from_chain_type(\n",
    "    llm=llm, \n",
    "    chain_type=\"stuff\", \n",
    "    retriever=retriever, \n",
    "    return_source_documents=True,\n",
    "    chain_type_kwargs={\"prompt\": prompt_template}\n",
    ")\n",
    "\n",
    "# Function to get user input and generate a response\n",
    "def get_chatbot_response(query):\n",
    "    # Get relevant context from the retriever\n",
    "    result = qa_chain({\"query\": query})\n",
    "\n",
    "    # Return the answer and the source documents used for generating the answer\n",
    "    return result['result'], result['source_documents'] \n",
    "\n",
    "# Chatbot loop\n",
    "while True:\n",
    "    query = input(\"Enter your query (or 'exit' to quit): \")\n",
    "    if query.lower() == 'exit':\n",
    "        break\n",
    "\n",
    "    response, source_documents = get_chatbot_response(query)\n",
    "    print(\"Answer:\", response)\n",
    "\n",
    "    # # Optionally, print the source documents used for generating the response\n",
    "    # if source_documents:\n",
    "    #     print(\"\\nSources:\")\n",
    "    #     for doc in source_documents:\n",
    "    #         print(doc.metadata['source'])"
   ]
  },
  {
   "cell_type": "code",
   "execution_count": null,
   "metadata": {},
   "outputs": [],
   "source": []
  }
 ],
 "metadata": {
  "kernelspec": {
   "display_name": "venv",
   "language": "python",
   "name": "python3"
  },
  "language_info": {
   "codemirror_mode": {
    "name": "ipython",
    "version": 3
   },
   "file_extension": ".py",
   "mimetype": "text/x-python",
   "name": "python",
   "nbconvert_exporter": "python",
   "pygments_lexer": "ipython3",
   "version": "3.11.0"
  }
 },
 "nbformat": 4,
 "nbformat_minor": 2
}
