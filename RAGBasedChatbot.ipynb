{
 "cells": [
  {
   "cell_type": "code",
   "execution_count": 14,
   "metadata": {},
   "outputs": [],
   "source": [
    "import json\n",
    "from langchain.text_splitter import RecursiveCharacterTextSplitter\n",
    "from langchain_community.vectorstores import Chroma\n",
    "from langchain_community.document_loaders import JSONLoader\n",
    "from langchain.storage import InMemoryStore\n",
    "from langchain_core.documents import Document\n",
    "\n",
    "import os\n",
    "from dotenv import load_dotenv"
   ]
  },
  {
   "cell_type": "code",
   "execution_count": 20,
   "metadata": {},
   "outputs": [
    {
     "name": "stdout",
     "output_type": "stream",
     "text": [
      "Error processing file rag_string.txt: Could not import chromadb python package. Please install it with `pip install chromadb`.\n"
     ]
    }
   ],
   "source": [
    "from langchain.document_loaders import TextLoader\n",
    "from langchain.text_splitter import RecursiveCharacterTextSplitter\n",
    "from langchain_community.vectorstores import Chroma\n",
    "from langchain_google_genai import GoogleGenerativeAIEmbeddings\n",
    "from langchain.storage import InMemoryStore\n",
    "from langchain_core.documents import Document\n",
    "\n",
    "import os\n",
    "from dotenv import load_dotenv\n",
    "\n",
    "# Load environment variables (make sure to set GOOGLE_API_KEY in your .env file)\n",
    "load_dotenv()\n",
    "\n",
    "def read_file_with_fallback_encoding(file_path):\n",
    "    encodings = ['utf-8', 'latin-1', 'ascii', 'utf-16', 'cp1252']\n",
    "    for encoding in encodings:\n",
    "        try:\n",
    "            with open(file_path, 'r', encoding=encoding) as file:\n",
    "                return file.read()\n",
    "        except UnicodeDecodeError:\n",
    "            continue\n",
    "    raise ValueError(f\"Unable to read the file {file_path} with any of the attempted encodings\")\n",
    "\n",
    "def load_rag_content_from_text(text_file_path, chunk_size=1000, chunk_overlap=200):\n",
    "    try:\n",
    "        # Read the file content\n",
    "        file_content = read_file_with_fallback_encoding(text_file_path)\n",
    "        \n",
    "        # Create a Document object\n",
    "        document = Document(page_content=file_content, metadata={\"source\": text_file_path})\n",
    "\n",
    "        # Initialize the text splitter\n",
    "        text_splitter = RecursiveCharacterTextSplitter(\n",
    "            chunk_size=chunk_size,\n",
    "            chunk_overlap=chunk_overlap,\n",
    "            length_function=len,\n",
    "        )\n",
    "\n",
    "        # Split the document\n",
    "        splits = text_splitter.split_documents([document])\n",
    "\n",
    "        # Initialize the embedding function with Gemini Pro\n",
    "        embedding_function = GoogleGenerativeAIEmbeddings(model=\"gemini-1.5-flash\")\n",
    "\n",
    "        # Create the vector store\n",
    "        vectorstore = Chroma.from_documents(documents=splits, embedding=embedding_function)\n",
    "\n",
    "        # Create the retriever\n",
    "        retriever = vectorstore.as_retriever(search_kwargs={\"k\": 5})\n",
    "\n",
    "        return retriever\n",
    "    except Exception as e:\n",
    "        print(f\"Error processing file {text_file_path}: {str(e)}\")\n",
    "        return None\n",
    "\n",
    "# Usage\n",
    "text_file_path = \"rag_string.txt\"\n",
    "retriever = load_rag_content_from_text(text_file_path)"
   ]
  },
  {
   "cell_type": "code",
   "execution_count": null,
   "metadata": {},
   "outputs": [],
   "source": [
    "if retriever:\n",
    "    # Test the retriever\n",
    "    query = \"What is the main topic of the content?\"\n",
    "    results = retriever.get_relevant_documents(query)\n",
    "\n",
    "    for doc in results:\n",
    "        print(f\"Content: {doc.page_content[:100]}...\")\n",
    "        print(f\"Metadata: {doc.metadata}\")\n",
    "        print(\"-\" * 50)\n",
    "else:\n",
    "    print(\"Failed to create retriever due to file reading error.\")"
   ]
  }
 ],
 "metadata": {
  "kernelspec": {
   "display_name": "venv",
   "language": "python",
   "name": "python3"
  },
  "language_info": {
   "codemirror_mode": {
    "name": "ipython",
    "version": 3
   },
   "file_extension": ".py",
   "mimetype": "text/x-python",
   "name": "python",
   "nbconvert_exporter": "python",
   "pygments_lexer": "ipython3",
   "version": "3.11.0"
  }
 },
 "nbformat": 4,
 "nbformat_minor": 2
}
